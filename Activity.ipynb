{
 "cells": [
  {
   "cell_type": "markdown",
   "metadata": {},
   "source": [
    "# Task 2: Challenge\n",
    "\n",
    "## Activity 1:\n",
    "In Activity 1, you are tasked with building a binary classifier. The data is generated synthetically.\n",
    "\n",
    "## Evaluation:\n",
    "Submissions will be scored according to timely completion. The solution file should be in a CSV format.\n",
    "\n",
    "## File Descriptions:\n",
    "task2training.csv – the training data\n",
    "task2testing.csv – the test data\n",
    "\n",
    "## Deliverables:\n",
    "User submissions are evaluated by comparing their submission CSV to the ground truth solution CSV with respect to Categorization Accuracy. Documents to be submitted are as follows.\n",
    "\n",
    "## GitHub: \n",
    "Every student should commit and push files.\n",
    "\n",
    "#### A pediction file task2testing.csv; till column Class in the testing file.\n",
    "#### Jupyter notebook code task2challenge.ipynb or Python code."
   ]
  },
  {
   "cell_type": "code",
   "execution_count": null,
   "metadata": {},
   "outputs": [],
   "source": []
  }
 ],
 "metadata": {
  "kernelspec": {
   "display_name": "Python 3",
   "language": "python",
   "name": "python3"
  },
  "language_info": {
   "codemirror_mode": {
    "name": "ipython",
    "version": 3
   },
   "file_extension": ".py",
   "mimetype": "text/x-python",
   "name": "python",
   "nbconvert_exporter": "python",
   "pygments_lexer": "ipython3",
   "version": "3.7.3"
  }
 },
 "nbformat": 4,
 "nbformat_minor": 2
}
